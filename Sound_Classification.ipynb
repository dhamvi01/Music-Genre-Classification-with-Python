{
  "nbformat": 4,
  "nbformat_minor": 0,
  "metadata": {
    "colab": {
      "name": "Sound Classification.ipynb",
      "provenance": [],
      "collapsed_sections": []
    },
    "kernelspec": {
      "name": "python3",
      "display_name": "Python 3"
    }
  },
  "cells": [
    {
      "cell_type": "code",
      "metadata": {
        "id": "I0pFIm9_B311",
        "colab_type": "code",
        "colab": {
          "base_uri": "https://localhost:8080/",
          "height": 121
        },
        "outputId": "ad4b325f-a071-46a7-fc62-3356ea35e608"
      },
      "source": [
        "from google.colab import drive\n",
        "drive.mount('/content/gdrive')"
      ],
      "execution_count": 1,
      "outputs": [
        {
          "output_type": "stream",
          "text": [
            "Go to this URL in a browser: https://accounts.google.com/o/oauth2/auth?client_id=947318989803-6bn6qk8qdgf4n4g3pfee6491hc0brc4i.apps.googleusercontent.com&redirect_uri=urn%3Aietf%3Awg%3Aoauth%3A2.0%3Aoob&scope=email%20https%3A%2F%2Fwww.googleapis.com%2Fauth%2Fdocs.test%20https%3A%2F%2Fwww.googleapis.com%2Fauth%2Fdrive%20https%3A%2F%2Fwww.googleapis.com%2Fauth%2Fdrive.photos.readonly%20https%3A%2F%2Fwww.googleapis.com%2Fauth%2Fpeopleapi.readonly&response_type=code\n",
            "\n",
            "Enter your authorization code:\n",
            "··········\n",
            "Mounted at /content/gdrive\n"
          ],
          "name": "stdout"
        }
      ]
    },
    {
      "cell_type": "code",
      "metadata": {
        "id": "LEBpuoYppLsO",
        "colab_type": "code",
        "colab": {}
      },
      "source": [
        "import os\n",
        "os.chdir(\"/content/gdrive/My Drive/flt/Sound\")"
      ],
      "execution_count": 0,
      "outputs": []
    },
    {
      "cell_type": "markdown",
      "metadata": {
        "id": "Kt88YyBHps6b",
        "colab_type": "text"
      },
      "source": [
        "# Music genre classification notebook\n",
        "## 1. Import libraries"
      ]
    },
    {
      "cell_type": "code",
      "metadata": {
        "id": "RwWfxyLJpa44",
        "colab_type": "code",
        "colab": {
          "base_uri": "https://localhost:8080/",
          "height": 79
        },
        "outputId": "9b65f5c1-d8ee-4b1f-b46a-1980b6510a2a"
      },
      "source": [
        "import librosa\n",
        "import pandas as pd\n",
        "import numpy as np\n",
        "import matplotlib.pyplot as plt\n",
        "\n",
        "#preprocessing\n",
        "from sklearn.model_selection import train_test_split\n",
        "from sklearn.preprocessing import LabelEncoder, StandardScaler\n",
        "\n",
        "#keras\n",
        "import keras\n"
      ],
      "execution_count": 4,
      "outputs": [
        {
          "output_type": "stream",
          "text": [
            "Using TensorFlow backend.\n"
          ],
          "name": "stderr"
        },
        {
          "output_type": "display_data",
          "data": {
            "text/html": [
              "<p style=\"color: red;\">\n",
              "The default version of TensorFlow in Colab will soon switch to TensorFlow 2.x.<br>\n",
              "We recommend you <a href=\"https://www.tensorflow.org/guide/migrate\" target=\"_blank\">upgrade</a> now \n",
              "or ensure your notebook will continue to use TensorFlow 1.x via the <code>%tensorflow_version 1.x</code> magic:\n",
              "<a href=\"https://colab.research.google.com/notebooks/tensorflow_version.ipynb\" target=\"_blank\">more info</a>.</p>\n"
            ],
            "text/plain": [
              "<IPython.core.display.HTML object>"
            ]
          },
          "metadata": {
            "tags": []
          }
        }
      ]
    },
    {
      "cell_type": "markdown",
      "metadata": {
        "id": "c_2Pmke2p3-0",
        "colab_type": "text"
      },
      "source": [
        "## 2.Extracting features from spectrogram\n",
        "We will extract\n",
        "\n",
        "    -Mel frequency cepstral coefficients(MFCC)\n",
        "    -spectral centroid\n",
        "    -zero cross rate\n",
        "    -chroma frequencies\n",
        "    -spectral roll-off"
      ]
    },
    {
      "cell_type": "markdown",
      "metadata": {
        "id": "btAWMhZh8X_Z",
        "colab_type": "text"
      },
      "source": [
        "## Extracting music and features\n",
        "\n",
        "### Dataset\n",
        "\n",
        "We use [GTZAN genre collection](http://marsyasweb.appspot.com/download/data_sets/) dataset for classification. \n",
        "<br>\n",
        "<br>\n",
        "The dataset consists of 10 genres i.e\n",
        " * Blues\n",
        " * Classical\n",
        " * Country\n",
        " * Disco\n",
        " * Hiphop\n",
        " * Jazz\n",
        " * Metal\n",
        " * Pop\n",
        " * Reggae\n",
        " * Rock\n",
        " \n",
        "Each genre contains 100 songs. Total dataset: 1000 songs"
      ]
    },
    {
      "cell_type": "code",
      "metadata": {
        "id": "SHaq7D9HpwVX",
        "colab_type": "code",
        "colab": {
          "base_uri": "https://localhost:8080/",
          "height": 215
        },
        "outputId": "d4446967-9da0-4fbb-af1b-c357c3f10486"
      },
      "source": [
        "data = pd.read_csv('data.csv')\n",
        "data.head()"
      ],
      "execution_count": 5,
      "outputs": [
        {
          "output_type": "execute_result",
          "data": {
            "text/html": [
              "<div>\n",
              "<style scoped>\n",
              "    .dataframe tbody tr th:only-of-type {\n",
              "        vertical-align: middle;\n",
              "    }\n",
              "\n",
              "    .dataframe tbody tr th {\n",
              "        vertical-align: top;\n",
              "    }\n",
              "\n",
              "    .dataframe thead th {\n",
              "        text-align: right;\n",
              "    }\n",
              "</style>\n",
              "<table border=\"1\" class=\"dataframe\">\n",
              "  <thead>\n",
              "    <tr style=\"text-align: right;\">\n",
              "      <th></th>\n",
              "      <th>filename</th>\n",
              "      <th>chroma_stft</th>\n",
              "      <th>rmse</th>\n",
              "      <th>spectral_centroid</th>\n",
              "      <th>spectral_bandwidth</th>\n",
              "      <th>rolloff</th>\n",
              "      <th>zero_crossing_rate</th>\n",
              "      <th>mfcc1</th>\n",
              "      <th>mfcc2</th>\n",
              "      <th>mfcc3</th>\n",
              "      <th>mfcc4</th>\n",
              "      <th>mfcc5</th>\n",
              "      <th>mfcc6</th>\n",
              "      <th>mfcc7</th>\n",
              "      <th>mfcc8</th>\n",
              "      <th>mfcc9</th>\n",
              "      <th>mfcc10</th>\n",
              "      <th>mfcc11</th>\n",
              "      <th>mfcc12</th>\n",
              "      <th>mfcc13</th>\n",
              "      <th>mfcc14</th>\n",
              "      <th>mfcc15</th>\n",
              "      <th>mfcc16</th>\n",
              "      <th>mfcc17</th>\n",
              "      <th>mfcc18</th>\n",
              "      <th>mfcc19</th>\n",
              "      <th>mfcc20</th>\n",
              "      <th>label</th>\n",
              "    </tr>\n",
              "  </thead>\n",
              "  <tbody>\n",
              "    <tr>\n",
              "      <th>0</th>\n",
              "      <td>blues.00081.au</td>\n",
              "      <td>0.380260</td>\n",
              "      <td>0.248262</td>\n",
              "      <td>2116.942959</td>\n",
              "      <td>1956.611056</td>\n",
              "      <td>4196.107960</td>\n",
              "      <td>0.127272</td>\n",
              "      <td>-26.929785</td>\n",
              "      <td>107.334008</td>\n",
              "      <td>-46.809993</td>\n",
              "      <td>40.932634</td>\n",
              "      <td>-21.463776</td>\n",
              "      <td>24.816275</td>\n",
              "      <td>-18.945571</td>\n",
              "      <td>15.253459</td>\n",
              "      <td>-15.050104</td>\n",
              "      <td>12.262823</td>\n",
              "      <td>-15.234050</td>\n",
              "      <td>14.336612</td>\n",
              "      <td>-13.821769</td>\n",
              "      <td>7.562789</td>\n",
              "      <td>-6.181372</td>\n",
              "      <td>0.330165</td>\n",
              "      <td>-6.829571</td>\n",
              "      <td>0.965922</td>\n",
              "      <td>-7.570825</td>\n",
              "      <td>2.918987</td>\n",
              "      <td>blues</td>\n",
              "    </tr>\n",
              "    <tr>\n",
              "      <th>1</th>\n",
              "      <td>blues.00022.au</td>\n",
              "      <td>0.306451</td>\n",
              "      <td>0.113475</td>\n",
              "      <td>1156.070496</td>\n",
              "      <td>1497.668176</td>\n",
              "      <td>2170.053545</td>\n",
              "      <td>0.058613</td>\n",
              "      <td>-233.860772</td>\n",
              "      <td>136.170239</td>\n",
              "      <td>3.289490</td>\n",
              "      <td>48.931193</td>\n",
              "      <td>8.699106</td>\n",
              "      <td>13.954752</td>\n",
              "      <td>5.359449</td>\n",
              "      <td>0.381334</td>\n",
              "      <td>-13.490265</td>\n",
              "      <td>16.871769</td>\n",
              "      <td>5.145258</td>\n",
              "      <td>-2.250578</td>\n",
              "      <td>3.959198</td>\n",
              "      <td>5.322555</td>\n",
              "      <td>0.812028</td>\n",
              "      <td>-1.107202</td>\n",
              "      <td>-4.556555</td>\n",
              "      <td>-2.436490</td>\n",
              "      <td>3.316913</td>\n",
              "      <td>-0.608485</td>\n",
              "      <td>blues</td>\n",
              "    </tr>\n",
              "    <tr>\n",
              "      <th>2</th>\n",
              "      <td>blues.00031.au</td>\n",
              "      <td>0.253487</td>\n",
              "      <td>0.151571</td>\n",
              "      <td>1331.073970</td>\n",
              "      <td>1973.643437</td>\n",
              "      <td>2900.174130</td>\n",
              "      <td>0.042967</td>\n",
              "      <td>-221.802549</td>\n",
              "      <td>110.843071</td>\n",
              "      <td>18.620984</td>\n",
              "      <td>30.922996</td>\n",
              "      <td>3.291330</td>\n",
              "      <td>22.587447</td>\n",
              "      <td>-20.418303</td>\n",
              "      <td>12.120995</td>\n",
              "      <td>-26.347956</td>\n",
              "      <td>-4.356270</td>\n",
              "      <td>-26.406674</td>\n",
              "      <td>-13.037723</td>\n",
              "      <td>-12.652228</td>\n",
              "      <td>-1.821905</td>\n",
              "      <td>-7.260097</td>\n",
              "      <td>-6.660252</td>\n",
              "      <td>-14.682694</td>\n",
              "      <td>-11.719264</td>\n",
              "      <td>-11.025216</td>\n",
              "      <td>-13.387260</td>\n",
              "      <td>blues</td>\n",
              "    </tr>\n",
              "    <tr>\n",
              "      <th>3</th>\n",
              "      <td>blues.00012.au</td>\n",
              "      <td>0.269320</td>\n",
              "      <td>0.119072</td>\n",
              "      <td>1361.045467</td>\n",
              "      <td>1567.804596</td>\n",
              "      <td>2739.625101</td>\n",
              "      <td>0.069124</td>\n",
              "      <td>-207.208080</td>\n",
              "      <td>132.799175</td>\n",
              "      <td>-15.438986</td>\n",
              "      <td>60.986727</td>\n",
              "      <td>0.725807</td>\n",
              "      <td>12.437828</td>\n",
              "      <td>1.183836</td>\n",
              "      <td>-1.540779</td>\n",
              "      <td>-17.888154</td>\n",
              "      <td>8.358496</td>\n",
              "      <td>-2.452068</td>\n",
              "      <td>-0.613248</td>\n",
              "      <td>0.384877</td>\n",
              "      <td>2.605128</td>\n",
              "      <td>-5.188924</td>\n",
              "      <td>-9.527455</td>\n",
              "      <td>-9.244394</td>\n",
              "      <td>-2.848274</td>\n",
              "      <td>-1.418707</td>\n",
              "      <td>-5.932607</td>\n",
              "      <td>blues</td>\n",
              "    </tr>\n",
              "    <tr>\n",
              "      <th>4</th>\n",
              "      <td>blues.00056.au</td>\n",
              "      <td>0.391059</td>\n",
              "      <td>0.137728</td>\n",
              "      <td>1811.076084</td>\n",
              "      <td>2052.332563</td>\n",
              "      <td>3927.809582</td>\n",
              "      <td>0.075480</td>\n",
              "      <td>-145.434568</td>\n",
              "      <td>102.829023</td>\n",
              "      <td>-12.517677</td>\n",
              "      <td>56.993472</td>\n",
              "      <td>2.271347</td>\n",
              "      <td>26.591402</td>\n",
              "      <td>-4.274803</td>\n",
              "      <td>17.338809</td>\n",
              "      <td>-7.985593</td>\n",
              "      <td>15.235427</td>\n",
              "      <td>-6.934599</td>\n",
              "      <td>7.457218</td>\n",
              "      <td>-10.470444</td>\n",
              "      <td>-2.360483</td>\n",
              "      <td>-6.783624</td>\n",
              "      <td>2.671134</td>\n",
              "      <td>-4.760879</td>\n",
              "      <td>-0.949005</td>\n",
              "      <td>0.024832</td>\n",
              "      <td>-2.005315</td>\n",
              "      <td>blues</td>\n",
              "    </tr>\n",
              "  </tbody>\n",
              "</table>\n",
              "</div>"
            ],
            "text/plain": [
              "         filename  chroma_stft      rmse  ...     mfcc19     mfcc20  label\n",
              "0  blues.00081.au     0.380260  0.248262  ...  -7.570825   2.918987  blues\n",
              "1  blues.00022.au     0.306451  0.113475  ...   3.316913  -0.608485  blues\n",
              "2  blues.00031.au     0.253487  0.151571  ... -11.025216 -13.387260  blues\n",
              "3  blues.00012.au     0.269320  0.119072  ...  -1.418707  -5.932607  blues\n",
              "4  blues.00056.au     0.391059  0.137728  ...   0.024832  -2.005315  blues\n",
              "\n",
              "[5 rows x 28 columns]"
            ]
          },
          "metadata": {
            "tags": []
          },
          "execution_count": 5
        }
      ]
    },
    {
      "cell_type": "code",
      "metadata": {
        "id": "DRaW-0O6qHXy",
        "colab_type": "code",
        "colab": {
          "base_uri": "https://localhost:8080/",
          "height": 34
        },
        "outputId": "921e5c54-06a3-425d-d0f8-2c118f1af8bc"
      },
      "source": [
        "print(data.shape)\n",
        "data = data.drop('filename',axis=1)"
      ],
      "execution_count": 6,
      "outputs": [
        {
          "output_type": "stream",
          "text": [
            "(1000, 28)\n"
          ],
          "name": "stdout"
        }
      ]
    },
    {
      "cell_type": "markdown",
      "metadata": {
        "id": "d-iXLXVoql73",
        "colab_type": "text"
      },
      "source": [
        "### Encoding Labels"
      ]
    },
    {
      "cell_type": "code",
      "metadata": {
        "id": "l4HqhG15qQna",
        "colab_type": "code",
        "colab": {}
      },
      "source": [
        "genere_list = data.iloc[:,-1]\n",
        "le = LabelEncoder()\n",
        "y = le.fit_transform(genere_list)"
      ],
      "execution_count": 0,
      "outputs": []
    },
    {
      "cell_type": "markdown",
      "metadata": {
        "id": "nADLfVTmqqdg",
        "colab_type": "text"
      },
      "source": [
        "### Sacling feature columns"
      ]
    },
    {
      "cell_type": "code",
      "metadata": {
        "id": "mQWQxWjrqjfh",
        "colab_type": "code",
        "colab": {}
      },
      "source": [
        "scaler = StandardScaler()\n",
        "X = scaler.fit_transform(np.array(data.iloc[:,:-1],dtype=float))"
      ],
      "execution_count": 0,
      "outputs": []
    },
    {
      "cell_type": "markdown",
      "metadata": {
        "id": "1WzPwLAgrYA3",
        "colab_type": "text"
      },
      "source": [
        "### Dividing data into train test set"
      ]
    },
    {
      "cell_type": "code",
      "metadata": {
        "id": "ihCvoi4jrMaZ",
        "colab_type": "code",
        "colab": {
          "base_uri": "https://localhost:8080/",
          "height": 134
        },
        "outputId": "c6bd43ad-7735-49c6-9cc4-6876ca50f91f"
      },
      "source": [
        "x_train, x_test,y_train,y_test = train_test_split(X,y,test_size=0.2)\n",
        "print(len(x_train))\n",
        "print(len(x_test))\n",
        "print(x_train[10])"
      ],
      "execution_count": 15,
      "outputs": [
        {
          "output_type": "stream",
          "text": [
            "800\n",
            "200\n",
            "[ 1.68664855  0.59821279  0.24312126 -0.02014807  0.20778073  0.10449413\n",
            "  0.77686193 -0.35801561 -0.85847302  1.0131924  -0.65829091  1.12557918\n",
            " -0.29908318  1.54522776 -0.14884932  0.62337006 -0.16233764  1.37096774\n",
            " -0.57745557  1.23457507 -0.49711913  1.52179455 -0.2205741   1.46221494\n",
            "  0.72101749  0.98982254]\n"
          ],
          "name": "stdout"
        }
      ]
    },
    {
      "cell_type": "markdown",
      "metadata": {
        "id": "G4kO8ukGsDmf",
        "colab_type": "text"
      },
      "source": [
        "### Model building"
      ]
    },
    {
      "cell_type": "code",
      "metadata": {
        "id": "iNMPL2HIskqn",
        "colab_type": "code",
        "colab": {
          "base_uri": "https://localhost:8080/",
          "height": 1000
        },
        "outputId": "a9e70ede-7760-4040-edb6-f48fe48577f8"
      },
      "source": [
        "from keras import layers\n",
        "from keras import models\n",
        "\n",
        "model = models.Sequential()\n",
        "model.add(layers.Dense(512, activation='relu',input_shape = (x_train.shape[1],)))\n",
        "model.add(layers.Dense(256, activation = 'relu'))\n",
        "model.add(layers.Dense(128, activation = 'relu'))\n",
        "model.add(layers.Dense(64, activation = 'relu'))\n",
        "model.add(layers.Dense(10, activation = 'softmax'))\n",
        "\n",
        "model.compile(optimizer='adam',\n",
        "              loss = 'sparse_categorical_crossentropy',\n",
        "              metrics=['accuracy'])\n",
        "\n",
        "model.fit(x_train,\n",
        "          y_train,\n",
        "          epochs=30,\n",
        "          batch_size=150)"
      ],
      "execution_count": 31,
      "outputs": [
        {
          "output_type": "stream",
          "text": [
            "Epoch 1/30\n",
            "800/800 [==============================] - 1s 890us/step - loss: 2.1253 - acc: 0.3000\n",
            "Epoch 2/30\n",
            "800/800 [==============================] - 0s 84us/step - loss: 1.7046 - acc: 0.4063\n",
            "Epoch 3/30\n",
            "800/800 [==============================] - 0s 85us/step - loss: 1.3884 - acc: 0.5175\n",
            "Epoch 4/30\n",
            "800/800 [==============================] - 0s 97us/step - loss: 1.2154 - acc: 0.5763\n",
            "Epoch 5/30\n",
            "800/800 [==============================] - 0s 95us/step - loss: 1.0652 - acc: 0.6338\n",
            "Epoch 6/30\n",
            "800/800 [==============================] - 0s 88us/step - loss: 0.9758 - acc: 0.6612\n",
            "Epoch 7/30\n",
            "800/800 [==============================] - 0s 86us/step - loss: 0.8961 - acc: 0.6975\n",
            "Epoch 8/30\n",
            "800/800 [==============================] - 0s 83us/step - loss: 0.8212 - acc: 0.7263\n",
            "Epoch 9/30\n",
            "800/800 [==============================] - 0s 92us/step - loss: 0.7974 - acc: 0.7150\n",
            "Epoch 10/30\n",
            "800/800 [==============================] - 0s 89us/step - loss: 0.7214 - acc: 0.7488\n",
            "Epoch 11/30\n",
            "800/800 [==============================] - 0s 83us/step - loss: 0.6590 - acc: 0.7813\n",
            "Epoch 12/30\n",
            "800/800 [==============================] - 0s 81us/step - loss: 0.6084 - acc: 0.8088\n",
            "Epoch 13/30\n",
            "800/800 [==============================] - 0s 82us/step - loss: 0.5583 - acc: 0.8200\n",
            "Epoch 14/30\n",
            "800/800 [==============================] - 0s 83us/step - loss: 0.5232 - acc: 0.8325\n",
            "Epoch 15/30\n",
            "800/800 [==============================] - 0s 81us/step - loss: 0.4829 - acc: 0.8425\n",
            "Epoch 16/30\n",
            "800/800 [==============================] - 0s 88us/step - loss: 0.4380 - acc: 0.8613\n",
            "Epoch 17/30\n",
            "800/800 [==============================] - 0s 81us/step - loss: 0.3917 - acc: 0.8825\n",
            "Epoch 18/30\n",
            "800/800 [==============================] - 0s 79us/step - loss: 0.3571 - acc: 0.9012\n",
            "Epoch 19/30\n",
            "800/800 [==============================] - 0s 106us/step - loss: 0.3275 - acc: 0.9187\n",
            "Epoch 20/30\n",
            "800/800 [==============================] - 0s 86us/step - loss: 0.3058 - acc: 0.9200\n",
            "Epoch 21/30\n",
            "800/800 [==============================] - 0s 83us/step - loss: 0.2751 - acc: 0.9325\n",
            "Epoch 22/30\n",
            "800/800 [==============================] - 0s 81us/step - loss: 0.2547 - acc: 0.9400\n",
            "Epoch 23/30\n",
            "800/800 [==============================] - 0s 85us/step - loss: 0.2432 - acc: 0.9313\n",
            "Epoch 24/30\n",
            "800/800 [==============================] - 0s 88us/step - loss: 0.2170 - acc: 0.9525\n",
            "Epoch 25/30\n",
            "800/800 [==============================] - 0s 87us/step - loss: 0.1875 - acc: 0.9675\n",
            "Epoch 26/30\n",
            "800/800 [==============================] - 0s 100us/step - loss: 0.1811 - acc: 0.9637\n",
            "Epoch 27/30\n",
            "800/800 [==============================] - 0s 86us/step - loss: 0.1708 - acc: 0.9650\n",
            "Epoch 28/30\n",
            "800/800 [==============================] - 0s 87us/step - loss: 0.1545 - acc: 0.9675\n",
            "Epoch 29/30\n",
            "800/800 [==============================] - 0s 86us/step - loss: 0.1299 - acc: 0.9750\n",
            "Epoch 30/30\n",
            "800/800 [==============================] - 0s 85us/step - loss: 0.1247 - acc: 0.9788\n"
          ],
          "name": "stdout"
        },
        {
          "output_type": "execute_result",
          "data": {
            "text/plain": [
              "<keras.callbacks.History at 0x7f8c56421710>"
            ]
          },
          "metadata": {
            "tags": []
          },
          "execution_count": 31
        }
      ]
    },
    {
      "cell_type": "code",
      "metadata": {
        "id": "nWEGTo0RwAur",
        "colab_type": "code",
        "colab": {
          "base_uri": "https://localhost:8080/",
          "height": 50
        },
        "outputId": "587c5382-4a62-428f-8c4a-f80f9c99e0cf"
      },
      "source": [
        "test_loss, test_acc = model.evaluate(x_test,y_test)\n",
        "print(test_acc)"
      ],
      "execution_count": 32,
      "outputs": [
        {
          "output_type": "stream",
          "text": [
            "200/200 [==============================] - 0s 1ms/step\n",
            "0.635\n"
          ],
          "name": "stdout"
        }
      ]
    },
    {
      "cell_type": "markdown",
      "metadata": {
        "id": "bh3tXoQvw056",
        "colab_type": "text"
      },
      "source": [
        "The accuracy is less than train accuracy, it indicates overfitting"
      ]
    },
    {
      "cell_type": "markdown",
      "metadata": {
        "id": "82oUVaMUxFAO",
        "colab_type": "text"
      },
      "source": [
        "### validation approach\n",
        "lets apart 200 observation from train set to act as vali8dation set"
      ]
    },
    {
      "cell_type": "code",
      "metadata": {
        "id": "tAJvCcHBxKl-",
        "colab_type": "code",
        "colab": {}
      },
      "source": [
        "x_val = x_train[:200]\n",
        "x_partial_train = x_train[200:]\n",
        "\n",
        "y_val = y_train[:200]\n",
        "y_partial_train = y_train[200:]"
      ],
      "execution_count": 0,
      "outputs": []
    },
    {
      "cell_type": "code",
      "metadata": {
        "id": "pMJVSsD-vYf8",
        "colab_type": "code",
        "colab": {
          "base_uri": "https://localhost:8080/",
          "height": 1000
        },
        "outputId": "ca0a8106-00e5-4699-8dcd-6c99bbcca50c"
      },
      "source": [
        "model.fit(x_partial_train,\n",
        "          y_partial_train,\n",
        "          epochs=30,\n",
        "          batch_size = 512,\n",
        "          validation_data = (x_val,y_val))\n",
        "result = model.evaluate(x_test, y_test)"
      ],
      "execution_count": 36,
      "outputs": [
        {
          "output_type": "stream",
          "text": [
            "Train on 600 samples, validate on 200 samples\n",
            "Epoch 1/30\n",
            "600/600 [==============================] - 0s 78us/step - loss: 0.1208 - acc: 0.9717 - val_loss: 0.1408 - val_acc: 0.9650\n",
            "Epoch 2/30\n",
            "600/600 [==============================] - 0s 69us/step - loss: 0.1439 - acc: 0.9600 - val_loss: 0.1049 - val_acc: 0.9800\n",
            "Epoch 3/30\n",
            "600/600 [==============================] - 0s 71us/step - loss: 0.1030 - acc: 0.9800 - val_loss: 0.1309 - val_acc: 0.9650\n",
            "Epoch 4/30\n",
            "600/600 [==============================] - 0s 65us/step - loss: 0.1203 - acc: 0.9717 - val_loss: 0.1149 - val_acc: 0.9750\n",
            "Epoch 5/30\n",
            "600/600 [==============================] - 0s 77us/step - loss: 0.0989 - acc: 0.9850 - val_loss: 0.1147 - val_acc: 0.9700\n",
            "Epoch 6/30\n",
            "600/600 [==============================] - 0s 80us/step - loss: 0.1012 - acc: 0.9850 - val_loss: 0.1116 - val_acc: 0.9700\n",
            "Epoch 7/30\n",
            "600/600 [==============================] - 0s 75us/step - loss: 0.0838 - acc: 0.9867 - val_loss: 0.1183 - val_acc: 0.9750\n",
            "Epoch 8/30\n",
            "600/600 [==============================] - 0s 70us/step - loss: 0.0832 - acc: 0.9900 - val_loss: 0.1257 - val_acc: 0.9700\n",
            "Epoch 9/30\n",
            "600/600 [==============================] - 0s 73us/step - loss: 0.0834 - acc: 0.9900 - val_loss: 0.1175 - val_acc: 0.9750\n",
            "Epoch 10/30\n",
            "600/600 [==============================] - 0s 71us/step - loss: 0.0709 - acc: 0.9933 - val_loss: 0.1253 - val_acc: 0.9700\n",
            "Epoch 11/30\n",
            "600/600 [==============================] - 0s 68us/step - loss: 0.0731 - acc: 0.9867 - val_loss: 0.1244 - val_acc: 0.9650\n",
            "Epoch 12/30\n",
            "600/600 [==============================] - 0s 70us/step - loss: 0.0714 - acc: 0.9933 - val_loss: 0.1172 - val_acc: 0.9700\n",
            "Epoch 13/30\n",
            "600/600 [==============================] - 0s 73us/step - loss: 0.0613 - acc: 0.9950 - val_loss: 0.1235 - val_acc: 0.9700\n",
            "Epoch 14/30\n",
            "600/600 [==============================] - 0s 72us/step - loss: 0.0593 - acc: 0.9983 - val_loss: 0.1306 - val_acc: 0.9700\n",
            "Epoch 15/30\n",
            "600/600 [==============================] - 0s 74us/step - loss: 0.0586 - acc: 0.9983 - val_loss: 0.1252 - val_acc: 0.9600\n",
            "Epoch 16/30\n",
            "600/600 [==============================] - 0s 70us/step - loss: 0.0515 - acc: 0.9983 - val_loss: 0.1199 - val_acc: 0.9550\n",
            "Epoch 17/30\n",
            "600/600 [==============================] - 0s 79us/step - loss: 0.0498 - acc: 0.9983 - val_loss: 0.1255 - val_acc: 0.9700\n",
            "Epoch 18/30\n",
            "600/600 [==============================] - 0s 73us/step - loss: 0.0504 - acc: 0.9983 - val_loss: 0.1292 - val_acc: 0.9700\n",
            "Epoch 19/30\n",
            "600/600 [==============================] - 0s 73us/step - loss: 0.0465 - acc: 0.9983 - val_loss: 0.1333 - val_acc: 0.9650\n",
            "Epoch 20/30\n",
            "600/600 [==============================] - 0s 73us/step - loss: 0.0458 - acc: 0.9983 - val_loss: 0.1341 - val_acc: 0.9500\n",
            "Epoch 21/30\n",
            "600/600 [==============================] - 0s 81us/step - loss: 0.0442 - acc: 0.9983 - val_loss: 0.1293 - val_acc: 0.9550\n",
            "Epoch 22/30\n",
            "600/600 [==============================] - 0s 70us/step - loss: 0.0410 - acc: 0.9983 - val_loss: 0.1259 - val_acc: 0.9550\n",
            "Epoch 23/30\n",
            "600/600 [==============================] - 0s 72us/step - loss: 0.0399 - acc: 0.9983 - val_loss: 0.1224 - val_acc: 0.9600\n",
            "Epoch 24/30\n",
            "600/600 [==============================] - 0s 70us/step - loss: 0.0372 - acc: 0.9983 - val_loss: 0.1239 - val_acc: 0.9600\n",
            "Epoch 25/30\n",
            "600/600 [==============================] - 0s 74us/step - loss: 0.0360 - acc: 0.9983 - val_loss: 0.1300 - val_acc: 0.9700\n",
            "Epoch 26/30\n",
            "600/600 [==============================] - 0s 71us/step - loss: 0.0359 - acc: 0.9983 - val_loss: 0.1314 - val_acc: 0.9700\n",
            "Epoch 27/30\n",
            "600/600 [==============================] - 0s 70us/step - loss: 0.0351 - acc: 0.9983 - val_loss: 0.1287 - val_acc: 0.9600\n",
            "Epoch 28/30\n",
            "600/600 [==============================] - 0s 72us/step - loss: 0.0332 - acc: 0.9983 - val_loss: 0.1279 - val_acc: 0.9500\n",
            "Epoch 29/30\n",
            "600/600 [==============================] - 0s 71us/step - loss: 0.0315 - acc: 0.9983 - val_loss: 0.1262 - val_acc: 0.9500\n",
            "Epoch 30/30\n",
            "600/600 [==============================] - 0s 77us/step - loss: 0.0297 - acc: 0.9983 - val_loss: 0.1279 - val_acc: 0.9550\n",
            "200/200 [==============================] - 0s 94us/step\n"
          ],
          "name": "stdout"
        }
      ]
    },
    {
      "cell_type": "code",
      "metadata": {
        "id": "qrmUaSiiuk8D",
        "colab_type": "code",
        "colab": {
          "base_uri": "https://localhost:8080/",
          "height": 34
        },
        "outputId": "fac09a98-80a4-49c5-82f8-fc56c4c7cea5"
      },
      "source": [
        "result"
      ],
      "execution_count": 37,
      "outputs": [
        {
          "output_type": "execute_result",
          "data": {
            "text/plain": [
              "[1.472375783920288, 0.64]"
            ]
          },
          "metadata": {
            "tags": []
          },
          "execution_count": 37
        }
      ]
    },
    {
      "cell_type": "markdown",
      "metadata": {
        "id": "vfsKzFPsyTQn",
        "colab_type": "text"
      },
      "source": [
        "# 4. Prediction on test dataset"
      ]
    },
    {
      "cell_type": "code",
      "metadata": {
        "id": "dQWHHxU-yFSA",
        "colab_type": "code",
        "colab": {
          "base_uri": "https://localhost:8080/",
          "height": 50
        },
        "outputId": "424c61ad-bd45-4b51-f421-1ed48965007e"
      },
      "source": [
        "prediction = model.predict(x_test)\n",
        "print(prediction[0].shape)\n",
        "print(np.argmax(prediction[0]))"
      ],
      "execution_count": 43,
      "outputs": [
        {
          "output_type": "stream",
          "text": [
            "(10,)\n",
            "5\n"
          ],
          "name": "stdout"
        }
      ]
    },
    {
      "cell_type": "code",
      "metadata": {
        "id": "yEE5M4FLyb5s",
        "colab_type": "code",
        "colab": {}
      },
      "source": [
        ""
      ],
      "execution_count": 0,
      "outputs": []
    }
  ]
}